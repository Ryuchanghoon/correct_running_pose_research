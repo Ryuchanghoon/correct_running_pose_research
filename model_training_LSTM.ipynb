{
  "nbformat": 4,
  "nbformat_minor": 0,
  "metadata": {
    "colab": {
      "provenance": []
    },
    "kernelspec": {
      "name": "python3",
      "display_name": "Python 3"
    },
    "language_info": {
      "name": "python"
    }
  },
  "cells": [
    {
      "cell_type": "code",
      "execution_count": 2,
      "metadata": {
        "id": "N5O_6BLkNW2D"
      },
      "outputs": [],
      "source": [
        "import pandas as pd\n",
        "from sklearn.model_selection import train_test_split\n",
        "from sklearn.preprocessing import MinMaxScaler\n",
        "import numpy as np\n",
        "import tensorflow as tf\n",
        "from tensorflow.keras.models import Sequential\n",
        "from tensorflow.keras.layers import LSTM, Dense\n",
        "from sklearn.metrics import accuracy_score, classification_report"
      ]
    },
    {
      "cell_type": "code",
      "source": [
        "answer_data_path = '/content/drive/MyDrive/Research/running_posture/answer_annotated_data.csv'\n",
        "wrong_data_path = '/content/drive/MyDrive/Research/running_posture/wrong_annotated_data.csv'"
      ],
      "metadata": {
        "id": "pn0bQ0lQNv7d"
      },
      "execution_count": 3,
      "outputs": []
    },
    {
      "cell_type": "code",
      "source": [
        "answer_data = pd.read_csv(answer_data_path)\n",
        "wrong_data = pd.read_csv(wrong_data_path)"
      ],
      "metadata": {
        "id": "a8DFFWpZOCXf"
      },
      "execution_count": 4,
      "outputs": []
    },
    {
      "cell_type": "code",
      "source": [
        "data = pd.concat([answer_data, wrong_data], ignore_index=True)"
      ],
      "metadata": {
        "id": "1f-szuwyODnn"
      },
      "execution_count": 5,
      "outputs": []
    },
    {
      "cell_type": "code",
      "source": [
        "data.set_index('Time/Frame', inplace=True)"
      ],
      "metadata": {
        "id": "bLU6rxUIOemZ"
      },
      "execution_count": 6,
      "outputs": []
    },
    {
      "cell_type": "code",
      "source": [
        "# 'Label' 칼럼 제외 정규화\n",
        "features = data.columns.difference(['Label'])\n",
        "scaler = MinMaxScaler()\n",
        "scaled_data = scaler.fit_transform(data[features])"
      ],
      "metadata": {
        "id": "ChvaZ2YCOgZS"
      },
      "execution_count": 7,
      "outputs": []
    },
    {
      "cell_type": "code",
      "source": [
        "# Label이랑 scaling 한 데이터 결합\n",
        "\n",
        "data_scaled = pd.DataFrame(scaled_data, columns=features, index=data.index)\n",
        "data_scaled['Label'] = data['Label'].values"
      ],
      "metadata": {
        "id": "g1qSLL5pOjVq"
      },
      "execution_count": 8,
      "outputs": []
    },
    {
      "cell_type": "code",
      "source": [
        "# 데이터 LSTM 모델 입력 형식 변환\n",
        "def create_dataset_lstm(dataset, labels, time_step=1):\n",
        "    dataX, dataY = [], []\n",
        "    for i in range(len(dataset) - time_step):\n",
        "        dataX.append(dataset[i:(i + time_step)])\n",
        "        dataY.append(labels[i + time_step])\n",
        "    return np.array(dataX), np.array(dataY)"
      ],
      "metadata": {
        "id": "CgTjXjv6Ok6y"
      },
      "execution_count": 9,
      "outputs": []
    },
    {
      "cell_type": "code",
      "source": [
        "time_step = 10\n",
        "X_lstm, y_lstm = create_dataset_lstm(data_scaled[features].values, data_scaled['Label'].values, time_step)"
      ],
      "metadata": {
        "id": "hwrhFEL8Ox-r"
      },
      "execution_count": 10,
      "outputs": []
    },
    {
      "cell_type": "code",
      "source": [
        "X_train_lstm, X_temp_lstm, y_train_lstm, y_temp_lstm = train_test_split(X_lstm, y_lstm, test_size=0.4, random_state=42, stratify=y_lstm)\n",
        "X_val_lstm, X_test_lstm, y_val_lstm, y_test_lstm = train_test_split(X_temp_lstm, y_temp_lstm, test_size=0.5, random_state=42, stratify=y_temp_lstm)"
      ],
      "metadata": {
        "id": "j56qfHd6O3X1"
      },
      "execution_count": 11,
      "outputs": []
    },
    {
      "cell_type": "code",
      "source": [
        "model_lstm = Sequential()\n",
        "model_lstm.add(LSTM(50, input_shape=(time_step, X_lstm.shape[2])))\n",
        "model_lstm.add(Dense(1, activation='sigmoid'))"
      ],
      "metadata": {
        "colab": {
          "base_uri": "https://localhost:8080/"
        },
        "id": "f7azVVf3O49c",
        "outputId": "86320e04-e1f8-401c-90b0-b658cd927863"
      },
      "execution_count": 12,
      "outputs": [
        {
          "output_type": "stream",
          "name": "stderr",
          "text": [
            "/usr/local/lib/python3.10/dist-packages/keras/src/layers/rnn/rnn.py:204: UserWarning: Do not pass an `input_shape`/`input_dim` argument to a layer. When using Sequential models, prefer using an `Input(shape)` object as the first layer in the model instead.\n",
            "  super().__init__(**kwargs)\n"
          ]
        }
      ]
    },
    {
      "cell_type": "code",
      "source": [
        "model_lstm.compile(optimizer='adam', loss='binary_crossentropy', metrics=['accuracy'])"
      ],
      "metadata": {
        "id": "lCut8LK0O7BM"
      },
      "execution_count": 13,
      "outputs": []
    },
    {
      "cell_type": "code",
      "source": [
        "history = model_lstm.fit(X_train_lstm, y_train_lstm, epochs=20, batch_size=32, validation_data=(X_val_lstm, y_val_lstm))"
      ],
      "metadata": {
        "colab": {
          "base_uri": "https://localhost:8080/"
        },
        "id": "v9aKmDaNO9BV",
        "outputId": "65a38f26-ccdf-4046-8347-578873bb4de7"
      },
      "execution_count": 14,
      "outputs": [
        {
          "output_type": "stream",
          "name": "stdout",
          "text": [
            "Epoch 1/20\n",
            "\u001b[1m10/10\u001b[0m \u001b[32m━━━━━━━━━━━━━━━━━━━━\u001b[0m\u001b[37m\u001b[0m \u001b[1m3s\u001b[0m 43ms/step - accuracy: 0.5641 - loss: 0.6977 - val_accuracy: 0.7383 - val_loss: 0.6570\n",
            "Epoch 2/20\n",
            "\u001b[1m10/10\u001b[0m \u001b[32m━━━━━━━━━━━━━━━━━━━━\u001b[0m\u001b[37m\u001b[0m \u001b[1m0s\u001b[0m 10ms/step - accuracy: 0.7303 - loss: 0.6447 - val_accuracy: 0.8785 - val_loss: 0.6052\n",
            "Epoch 3/20\n",
            "\u001b[1m10/10\u001b[0m \u001b[32m━━━━━━━━━━━━━━━━━━━━\u001b[0m\u001b[37m\u001b[0m \u001b[1m0s\u001b[0m 9ms/step - accuracy: 0.8994 - loss: 0.5761 - val_accuracy: 0.9252 - val_loss: 0.4883\n",
            "Epoch 4/20\n",
            "\u001b[1m10/10\u001b[0m \u001b[32m━━━━━━━━━━━━━━━━━━━━\u001b[0m\u001b[37m\u001b[0m \u001b[1m0s\u001b[0m 11ms/step - accuracy: 0.9104 - loss: 0.4426 - val_accuracy: 0.9252 - val_loss: 0.2845\n",
            "Epoch 5/20\n",
            "\u001b[1m10/10\u001b[0m \u001b[32m━━━━━━━━━━━━━━━━━━━━\u001b[0m\u001b[37m\u001b[0m \u001b[1m0s\u001b[0m 10ms/step - accuracy: 0.9136 - loss: 0.2690 - val_accuracy: 0.9252 - val_loss: 0.2084\n",
            "Epoch 6/20\n",
            "\u001b[1m10/10\u001b[0m \u001b[32m━━━━━━━━━━━━━━━━━━━━\u001b[0m\u001b[37m\u001b[0m \u001b[1m0s\u001b[0m 10ms/step - accuracy: 0.9436 - loss: 0.1481 - val_accuracy: 0.9346 - val_loss: 0.1743\n",
            "Epoch 7/20\n",
            "\u001b[1m10/10\u001b[0m \u001b[32m━━━━━━━━━━━━━━━━━━━━\u001b[0m\u001b[37m\u001b[0m \u001b[1m0s\u001b[0m 15ms/step - accuracy: 0.9341 - loss: 0.1501 - val_accuracy: 0.9813 - val_loss: 0.1231\n",
            "Epoch 8/20\n",
            "\u001b[1m10/10\u001b[0m \u001b[32m━━━━━━━━━━━━━━━━━━━━\u001b[0m\u001b[37m\u001b[0m \u001b[1m0s\u001b[0m 15ms/step - accuracy: 0.9702 - loss: 0.0979 - val_accuracy: 0.9533 - val_loss: 0.1341\n",
            "Epoch 9/20\n",
            "\u001b[1m10/10\u001b[0m \u001b[32m━━━━━━━━━━━━━━━━━━━━\u001b[0m\u001b[37m\u001b[0m \u001b[1m0s\u001b[0m 15ms/step - accuracy: 0.9401 - loss: 0.1315 - val_accuracy: 0.9252 - val_loss: 0.2055\n",
            "Epoch 10/20\n",
            "\u001b[1m10/10\u001b[0m \u001b[32m━━━━━━━━━━━━━━━━━━━━\u001b[0m\u001b[37m\u001b[0m \u001b[1m0s\u001b[0m 14ms/step - accuracy: 0.9381 - loss: 0.1686 - val_accuracy: 0.9626 - val_loss: 0.1037\n",
            "Epoch 11/20\n",
            "\u001b[1m10/10\u001b[0m \u001b[32m━━━━━━━━━━━━━━━━━━━━\u001b[0m\u001b[37m\u001b[0m \u001b[1m0s\u001b[0m 14ms/step - accuracy: 0.9330 - loss: 0.1393 - val_accuracy: 0.9813 - val_loss: 0.0973\n",
            "Epoch 12/20\n",
            "\u001b[1m10/10\u001b[0m \u001b[32m━━━━━━━━━━━━━━━━━━━━\u001b[0m\u001b[37m\u001b[0m \u001b[1m0s\u001b[0m 16ms/step - accuracy: 0.9894 - loss: 0.0730 - val_accuracy: 0.9813 - val_loss: 0.0897\n",
            "Epoch 13/20\n",
            "\u001b[1m10/10\u001b[0m \u001b[32m━━━━━━━━━━━━━━━━━━━━\u001b[0m\u001b[37m\u001b[0m \u001b[1m0s\u001b[0m 15ms/step - accuracy: 0.9902 - loss: 0.0652 - val_accuracy: 0.9813 - val_loss: 0.0845\n",
            "Epoch 14/20\n",
            "\u001b[1m10/10\u001b[0m \u001b[32m━━━━━━━━━━━━━━━━━━━━\u001b[0m\u001b[37m\u001b[0m \u001b[1m0s\u001b[0m 14ms/step - accuracy: 0.9820 - loss: 0.0795 - val_accuracy: 0.9813 - val_loss: 0.0766\n",
            "Epoch 15/20\n",
            "\u001b[1m10/10\u001b[0m \u001b[32m━━━━━━━━━━━━━━━━━━━━\u001b[0m\u001b[37m\u001b[0m \u001b[1m0s\u001b[0m 19ms/step - accuracy: 0.9919 - loss: 0.0445 - val_accuracy: 0.9813 - val_loss: 0.0720\n",
            "Epoch 16/20\n",
            "\u001b[1m10/10\u001b[0m \u001b[32m━━━━━━━━━━━━━━━━━━━━\u001b[0m\u001b[37m\u001b[0m \u001b[1m0s\u001b[0m 16ms/step - accuracy: 0.9932 - loss: 0.0411 - val_accuracy: 0.9813 - val_loss: 0.0658\n",
            "Epoch 17/20\n",
            "\u001b[1m10/10\u001b[0m \u001b[32m━━━━━━━━━━━━━━━━━━━━\u001b[0m\u001b[37m\u001b[0m \u001b[1m0s\u001b[0m 16ms/step - accuracy: 0.9763 - loss: 0.0568 - val_accuracy: 0.9813 - val_loss: 0.0586\n",
            "Epoch 18/20\n",
            "\u001b[1m10/10\u001b[0m \u001b[32m━━━━━━━━━━━━━━━━━━━━\u001b[0m\u001b[37m\u001b[0m \u001b[1m0s\u001b[0m 19ms/step - accuracy: 0.9953 - loss: 0.0341 - val_accuracy: 0.9813 - val_loss: 0.0503\n",
            "Epoch 19/20\n",
            "\u001b[1m10/10\u001b[0m \u001b[32m━━━━━━━━━━━━━━━━━━━━\u001b[0m\u001b[37m\u001b[0m \u001b[1m0s\u001b[0m 19ms/step - accuracy: 0.9821 - loss: 0.0454 - val_accuracy: 0.9626 - val_loss: 0.1067\n",
            "Epoch 20/20\n",
            "\u001b[1m10/10\u001b[0m \u001b[32m━━━━━━━━━━━━━━━━━━━━\u001b[0m\u001b[37m\u001b[0m \u001b[1m0s\u001b[0m 16ms/step - accuracy: 0.9712 - loss: 0.0753 - val_accuracy: 0.9813 - val_loss: 0.0471\n"
          ]
        }
      ]
    },
    {
      "cell_type": "code",
      "source": [
        "# vali 셋 평가\n",
        "\n",
        "y_val_pred_lstm = (model_lstm.predict(X_val_lstm) > 0.5).astype(\"int32\")\n",
        "accuracy_val_lstm = accuracy_score(y_val_lstm, y_val_pred_lstm)\n",
        "report_val_lstm = classification_report(y_val_lstm, y_val_pred_lstm)"
      ],
      "metadata": {
        "colab": {
          "base_uri": "https://localhost:8080/"
        },
        "id": "rvok8D8LO-eN",
        "outputId": "cad93c6f-e7ef-4038-fcb8-3134d2eed2ab"
      },
      "execution_count": 15,
      "outputs": [
        {
          "output_type": "stream",
          "name": "stdout",
          "text": [
            "\u001b[1m4/4\u001b[0m \u001b[32m━━━━━━━━━━━━━━━━━━━━\u001b[0m\u001b[37m\u001b[0m \u001b[1m1s\u001b[0m 243ms/step\n"
          ]
        }
      ]
    },
    {
      "cell_type": "code",
      "source": [
        "# test 셋 평가\n",
        "\n",
        "y_test_pred_lstm = (model_lstm.predict(X_test_lstm) > 0.5).astype(\"int32\")\n",
        "accuracy_test_lstm = accuracy_score(y_test_lstm, y_test_pred_lstm)\n",
        "report_test_lstm = classification_report(y_test_lstm, y_test_pred_lstm)"
      ],
      "metadata": {
        "colab": {
          "base_uri": "https://localhost:8080/"
        },
        "id": "AQpQpyiYPEIu",
        "outputId": "705aad5a-3577-484f-f731-d6e46368e3ff"
      },
      "execution_count": 16,
      "outputs": [
        {
          "output_type": "stream",
          "name": "stdout",
          "text": [
            "\u001b[1m4/4\u001b[0m \u001b[32m━━━━━━━━━━━━━━━━━━━━\u001b[0m\u001b[37m\u001b[0m \u001b[1m0s\u001b[0m 6ms/step \n"
          ]
        }
      ]
    },
    {
      "cell_type": "code",
      "source": [
        "print(f'Validation Accuracy: {accuracy_val_lstm}')\n",
        "print(f'Validation Classification Report:\\n{report_val_lstm}')\n",
        "print('\\n')\n",
        "print(f'Test Accuracy: {accuracy_test_lstm}')\n",
        "print(f'Test Classification Report:\\n{report_test_lstm}')"
      ],
      "metadata": {
        "colab": {
          "base_uri": "https://localhost:8080/"
        },
        "id": "l7AXedtvPMCO",
        "outputId": "349e701a-2bc3-4354-bf98-8b0f11a54826"
      },
      "execution_count": 17,
      "outputs": [
        {
          "output_type": "stream",
          "name": "stdout",
          "text": [
            "Validation Accuracy: 0.9813084112149533\n",
            "Validation Classification Report:\n",
            "              precision    recall  f1-score   support\n",
            "\n",
            "           0       1.00      0.96      0.98        55\n",
            "           1       0.96      1.00      0.98        52\n",
            "\n",
            "    accuracy                           0.98       107\n",
            "   macro avg       0.98      0.98      0.98       107\n",
            "weighted avg       0.98      0.98      0.98       107\n",
            "\n",
            "\n",
            "\n",
            "Test Accuracy: 0.9906542056074766\n",
            "Test Classification Report:\n",
            "              precision    recall  f1-score   support\n",
            "\n",
            "           0       1.00      0.98      0.99        55\n",
            "           1       0.98      1.00      0.99        52\n",
            "\n",
            "    accuracy                           0.99       107\n",
            "   macro avg       0.99      0.99      0.99       107\n",
            "weighted avg       0.99      0.99      0.99       107\n",
            "\n"
          ]
        }
      ]
    },
    {
      "cell_type": "code",
      "source": [],
      "metadata": {
        "id": "rWiM4ooCPN4t"
      },
      "execution_count": null,
      "outputs": []
    }
  ]
}